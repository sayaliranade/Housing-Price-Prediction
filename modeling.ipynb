{
 "cells": [
  {
   "cell_type": "code",
   "execution_count": 1,
   "id": "1917e9b1-dd18-45b8-9bc2-741d09204468",
   "metadata": {},
   "outputs": [],
   "source": [
    "import pandas as pd\n",
    "import numpy as np\n",
    "\n",
    "import xgboost as xgb\n",
    "from sklearn.compose import ColumnTransformer\n",
    "from sklearn.pipeline import Pipeline\n",
    "from sklearn.preprocessing import StandardScaler, OneHotEncoder\n",
    "from sklearn.linear_model import ElasticNetCV, RidgeCV\n",
    "from sklearn.ensemble import RandomForestRegressor, StackingRegressor\n",
    "from sklearn.model_selection import train_test_split, GridSearchCV, cross_val_score\n",
    "from sklearn.metrics import mean_absolute_error, mean_squared_error, mean_absolute_percentage_error\n",
    "\n",
    "from bayes_opt import BayesianOptimization\n",
    "\n",
    "import tensorflow as tf\n",
    "from tensorflow.keras import Sequential\n",
    "from tensorflow.keras.layers import Dense, Dropout\n",
    "from keras.wrappers.scikit_learn import KerasRegressor"
   ]
  },
  {
   "cell_type": "code",
   "execution_count": 2,
   "id": "aaad3de2-3916-4960-a08e-598b64625125",
   "metadata": {},
   "outputs": [],
   "source": [
    "seed = 0\n",
    "np.random.seed(seed)\n",
    "tf.random.set_seed(seed = seed)"
   ]
  },
  {
   "cell_type": "markdown",
   "id": "9bf1d7c6-9c8b-4830-919f-c4c3e98975d1",
   "metadata": {},
   "source": [
    "# Reading and splitting the data"
   ]
  },
  {
   "cell_type": "code",
   "execution_count": 3,
   "id": "8f10e143-2d0d-4e04-b4f6-1118820fbf3c",
   "metadata": {},
   "outputs": [],
   "source": [
    "df = pd.read_csv(\"sf_sold_houses_clean.csv\")"
   ]
  },
  {
   "cell_type": "code",
   "execution_count": 4,
   "id": "8165d1ac-08de-4b53-b857-cd01ee6f60eb",
   "metadata": {},
   "outputs": [
    {
     "name": "stdout",
     "output_type": "stream",
     "text": [
      "<class 'pandas.core.frame.DataFrame'>\n",
      "RangeIndex: 1797 entries, 0 to 1796\n",
      "Data columns (total 19 columns):\n",
      " #   Column                  Non-Null Count  Dtype  \n",
      "---  ------                  --------------  -----  \n",
      " 0   bedrooms                1797 non-null   int64  \n",
      " 1   bathrooms               1797 non-null   int64  \n",
      " 2   build_year              1797 non-null   int64  \n",
      " 3   build_type              1797 non-null   object \n",
      " 4   area                    1797 non-null   int64  \n",
      " 5   lot_area                1797 non-null   int64  \n",
      " 6   parking_spots           1797 non-null   int64  \n",
      " 7   homeowners_association  1797 non-null   int64  \n",
      " 8   zip_code                1797 non-null   object \n",
      " 9   nearby_elem_school      1797 non-null   float64\n",
      " 10  nearby_middle_school    1797 non-null   float64\n",
      " 11  nearby_high_school      1797 non-null   float64\n",
      " 12  nh_median_price         1797 non-null   int64  \n",
      " 13  nh_days_on_market       1797 non-null   int64  \n",
      " 14  nh_price_per_sqft       1797 non-null   int64  \n",
      " 15  selling_broker          1797 non-null   object \n",
      " 16  buying_broker           1797 non-null   object \n",
      " 17  price                   1797 non-null   int64  \n",
      " 18  days_since_sale         1797 non-null   float64\n",
      "dtypes: float64(4), int64(11), object(4)\n",
      "memory usage: 266.9+ KB\n"
     ]
    }
   ],
   "source": [
    "df.info()"
   ]
  },
  {
   "cell_type": "code",
   "execution_count": 5,
   "id": "70c5f8ba-deb2-429e-87d2-abdaa572ec52",
   "metadata": {},
   "outputs": [],
   "source": [
    "X = df.drop(columns = [\"price\"])\n",
    "y = df[\"price\"]\n",
    "X_train, X_test, y_train, y_test = train_test_split(X, y, test_size = 0.2, random_state = seed)"
   ]
  },
  {
   "cell_type": "code",
   "execution_count": 6,
   "id": "4509c3ab-2889-43cc-bdc6-7df45987d7be",
   "metadata": {},
   "outputs": [
    {
     "data": {
      "text/plain": [
       "((1437, 18), (360, 18))"
      ]
     },
     "execution_count": 6,
     "metadata": {},
     "output_type": "execute_result"
    }
   ],
   "source": [
    "X_train.shape, X_test.shape"
   ]
  },
  {
   "cell_type": "markdown",
   "id": "e55d8a67-68b6-4c9c-a2f1-14b7b0f5574e",
   "metadata": {},
   "source": [
    "# Elastic Net Regression"
   ]
  },
  {
   "cell_type": "code",
   "execution_count": 7,
   "id": "77be0dd2-3cf3-4645-9d9d-f84006797e09",
   "metadata": {},
   "outputs": [],
   "source": [
    "numerical_types = [\"int64\", \"float64\"]\n",
    "numerical_features = X_train.select_dtypes(include = numerical_types).columns\n",
    "numerical_transformer = StandardScaler()\n",
    "\n",
    "categorical_types = [\"object\"]\n",
    "categorical_features = X_train.select_dtypes(include = categorical_types).columns\n",
    "categorical_transformer = OneHotEncoder(handle_unknown = \"ignore\")\n",
    "\n",
    "preprocessor = ColumnTransformer(\n",
    "    transformers = [\n",
    "        (\"numerical\", numerical_transformer, numerical_features),\n",
    "        (\"categorical\", categorical_transformer, categorical_features)\n",
    "    ]\n",
    ")\n",
    "\n",
    "elastic_net = ElasticNetCV(l1_ratio = [0.01, 0.1, 0.5, 0.7, 0.9, 0.95, 0.99, 1], random_state = seed)\n",
    "\n",
    "elastic_net_model = Pipeline(\n",
    "    steps = [(\"preprocessing\", preprocessor), (\"elastic_net\", elastic_net)]\n",
    ")\n",
    "\n",
    "res = elastic_net_model.fit(X_train, y_train)"
   ]
  },
  {
   "cell_type": "code",
   "execution_count": 8,
   "id": "791df08b-8b8b-41d3-b685-88d2eb3c7412",
   "metadata": {},
   "outputs": [
    {
     "name": "stdout",
     "output_type": "stream",
     "text": [
      "Elastic Net parameters \n",
      "alpha: 1334.61 \n",
      "l1 ratio: 1.0\n"
     ]
    }
   ],
   "source": [
    "print(\"Elastic Net parameters\", \n",
    "      \"\\nalpha: {}\".format(round(elastic_net_model[\"elastic_net\"].alpha_, 2)),\n",
    "      \"\\nl1 ratio: {}\".format(round(elastic_net_model[\"elastic_net\"].l1_ratio_, 2)))"
   ]
  },
  {
   "cell_type": "code",
   "execution_count": 9,
   "id": "c45c2abc-867b-4170-96e6-3fc0856990e1",
   "metadata": {},
   "outputs": [
    {
     "name": "stdout",
     "output_type": "stream",
     "text": [
      "Elastic Net testing results \n",
      "RMSE: 392897.4235 \n",
      "MAE: 282319.0366 \n",
      "MAPE: 0.1981\n"
     ]
    }
   ],
   "source": [
    "elastic_net_pred = elastic_net_model.predict(X_test)\n",
    "print(\"Elastic Net testing results\", \n",
    "      \"\\nRMSE: {}\".format(round(mean_squared_error(y_test, elastic_net_pred, squared = False), 4)), \n",
    "      \"\\nMAE: {}\".format(round(mean_absolute_error(y_test, elastic_net_pred), 4)), \n",
    "      \"\\nMAPE: {}\".format(round(mean_absolute_percentage_error(y_test, elastic_net_pred), 4)))"
   ]
  },
  {
   "cell_type": "markdown",
   "id": "2d008c11-4d21-468b-93bd-20ab6dc285f9",
   "metadata": {},
   "source": [
    "# Random Forest"
   ]
  },
  {
   "cell_type": "code",
   "execution_count": 10,
   "id": "6bea3207-73e3-4e0c-a0a3-a0191756f733",
   "metadata": {},
   "outputs": [],
   "source": [
    "rf_pipe = Pipeline(\n",
    "    steps = [(\"preprocessing\", OneHotEncoder(handle_unknown = \"ignore\")), \n",
    "             (\"rf\", RandomForestRegressor(random_state = seed))]\n",
    ")\n",
    "\n",
    "rf_param_grid = {\n",
    "    \"rf__n_estimators\": [100, 500, 1000], \n",
    "    \"rf__max_features\": [0.33, 0.67, 1.0]\n",
    "}\n",
    "\n",
    "random_forest_model = GridSearchCV(rf_pipe, rf_param_grid, n_jobs = -1)\n",
    "res = random_forest_model.fit(X_train, y_train)"
   ]
  },
  {
   "cell_type": "code",
   "execution_count": 11,
   "id": "264175e0-117b-459e-b138-9a99d9c80864",
   "metadata": {},
   "outputs": [
    {
     "data": {
      "text/plain": [
       "{'rf__max_features': 0.67, 'rf__n_estimators': 100}"
      ]
     },
     "execution_count": 11,
     "metadata": {},
     "output_type": "execute_result"
    }
   ],
   "source": [
    "random_forest_model.best_params_"
   ]
  },
  {
   "cell_type": "code",
   "execution_count": 12,
   "id": "a2dfcb19-e2b1-4494-867e-88fd465e2810",
   "metadata": {},
   "outputs": [
    {
     "name": "stdout",
     "output_type": "stream",
     "text": [
      "Random Forest testing results \n",
      "RMSE: 442219.1401 \n",
      "MAE: 301930.2784 \n",
      "MAPE: 0.2055\n"
     ]
    }
   ],
   "source": [
    "rf_pred = random_forest_model.predict(X_test)\n",
    "print(\"Random Forest testing results\", \n",
    "      \"\\nRMSE: {}\".format(round(mean_squared_error(y_test, rf_pred, squared = False), 4)), \n",
    "      \"\\nMAE: {}\".format(round(mean_absolute_error(y_test, rf_pred), 4)), \n",
    "      \"\\nMAPE: {}\".format(round(mean_absolute_percentage_error(y_test, rf_pred), 4)))"
   ]
  },
  {
   "cell_type": "markdown",
   "id": "ee861483-c7d1-4d0f-a0b1-2c7cb9a570df",
   "metadata": {},
   "source": [
    "# XGBoost (grid search and Bayesian optimization)"
   ]
  },
  {
   "cell_type": "markdown",
   "id": "8c4db612-0b97-4453-96ef-28690c0ec9bd",
   "metadata": {},
   "source": [
    "## Tuning hyperparameters using grid search"
   ]
  },
  {
   "cell_type": "code",
   "execution_count": 13,
   "id": "f5ef526f-957a-4aa2-b7df-4516465fa490",
   "metadata": {},
   "outputs": [],
   "source": [
    "xgb_pipe = Pipeline(\n",
    "    steps = [(\"preprocessing\", OneHotEncoder(handle_unknown = \"ignore\")), \n",
    "             (\"xgb\", xgb.XGBRegressor(random_state = seed))]\n",
    ")\n",
    "\n",
    "xgb_param_grid = {\n",
    "    \"xgb__n_estimators\": [5, 10, 20, 50, 100, 200], \n",
    "    \"xgb__max_depth\": [3, 5, 7, 10],\n",
    "    \"xgb__gamma\": [0, 0.01, 0.1, 0.5],\n",
    "    \"xgb__learning_rate\": [0.01, 0.1, 0.2, 0.3]\n",
    "}\n",
    "\n",
    "xgb_model = GridSearchCV(xgb_pipe, xgb_param_grid, n_jobs = -1)\n",
    "res = xgb_model.fit(X_train, y_train)"
   ]
  },
  {
   "cell_type": "code",
   "execution_count": 14,
   "id": "ffeec985-7c6e-4a9a-9cb4-6fa5b6da286e",
   "metadata": {},
   "outputs": [
    {
     "data": {
      "text/plain": [
       "{'xgb__gamma': 0,\n",
       " 'xgb__learning_rate': 0.2,\n",
       " 'xgb__max_depth': 3,\n",
       " 'xgb__n_estimators': 200}"
      ]
     },
     "execution_count": 14,
     "metadata": {},
     "output_type": "execute_result"
    }
   ],
   "source": [
    "xgb_gs_params = xgb_model.best_params_\n",
    "xgb_gs_params"
   ]
  },
  {
   "cell_type": "markdown",
   "id": "548d28d5-66bb-459d-8e03-9072ac4ae84d",
   "metadata": {},
   "source": [
    "## Tuning hyperparameters using Bayesian optimization"
   ]
  },
  {
   "cell_type": "code",
   "execution_count": 15,
   "id": "60bd2884-de1f-4e5b-a616-ecc977d36d41",
   "metadata": {
    "tags": []
   },
   "outputs": [
    {
     "name": "stdout",
     "output_type": "stream",
     "text": [
      "|   iter    |  target   |   gamma   | learni... | max_depth | n_esti... |\n",
      "-------------------------------------------------------------------------\n",
      "| \u001b[0m 1       \u001b[0m | \u001b[0m-5.01e+05\u001b[0m | \u001b[0m 0.9195  \u001b[0m | \u001b[0m 0.7133  \u001b[0m | \u001b[0m 5.336   \u001b[0m | \u001b[0m 250.5   \u001b[0m |\n",
      "| \u001b[95m 2       \u001b[0m | \u001b[95m-4.978e+0\u001b[0m | \u001b[95m 0.5245  \u001b[0m | \u001b[95m 0.6183  \u001b[0m | \u001b[95m 8.565   \u001b[0m | \u001b[95m 234.2   \u001b[0m |\n",
      "| \u001b[0m 3       \u001b[0m | \u001b[0m-5.203e+0\u001b[0m | \u001b[0m 0.07066 \u001b[0m | \u001b[0m 0.92    \u001b[0m | \u001b[0m 4.081   \u001b[0m | \u001b[0m 85.57   \u001b[0m |\n",
      "| \u001b[0m 4       \u001b[0m | \u001b[0m-1.294e+0\u001b[0m | \u001b[0m 0.9377  \u001b[0m | \u001b[0m 0.004175\u001b[0m | \u001b[0m 7.185   \u001b[0m | \u001b[0m 108.6   \u001b[0m |\n",
      "| \u001b[0m 5       \u001b[0m | \u001b[0m-5.27e+05\u001b[0m | \u001b[0m 0.3972  \u001b[0m | \u001b[0m 0.8264  \u001b[0m | \u001b[0m 7.721   \u001b[0m | \u001b[0m 184.6   \u001b[0m |\n",
      "| \u001b[95m 6       \u001b[0m | \u001b[95m-4.871e+0\u001b[0m | \u001b[95m 0.04092 \u001b[0m | \u001b[95m 0.143   \u001b[0m | \u001b[95m 6.974   \u001b[0m | \u001b[95m 258.6   \u001b[0m |\n",
      "| \u001b[0m 7       \u001b[0m | \u001b[0m-5.541e+0\u001b[0m | \u001b[0m 0.9969  \u001b[0m | \u001b[0m 0.9759  \u001b[0m | \u001b[0m 7.801   \u001b[0m | \u001b[0m 78.53   \u001b[0m |\n",
      "| \u001b[0m 8       \u001b[0m | \u001b[0m-5.013e+0\u001b[0m | \u001b[0m 0.6139  \u001b[0m | \u001b[0m 0.6677  \u001b[0m | \u001b[0m 9.885   \u001b[0m | \u001b[0m 248.3   \u001b[0m |\n",
      "| \u001b[0m 9       \u001b[0m | \u001b[0m-5.006e+0\u001b[0m | \u001b[0m 0.5106  \u001b[0m | \u001b[0m 0.6468  \u001b[0m | \u001b[0m 6.017   \u001b[0m | \u001b[0m 172.9   \u001b[0m |\n",
      "| \u001b[0m 10      \u001b[0m | \u001b[0m-5.321e+0\u001b[0m | \u001b[0m 0.8868  \u001b[0m | \u001b[0m 0.9595  \u001b[0m | \u001b[0m 6.993   \u001b[0m | \u001b[0m 263.5   \u001b[0m |\n",
      "| \u001b[0m 11      \u001b[0m | \u001b[0m-4.928e+0\u001b[0m | \u001b[0m 0.5516  \u001b[0m | \u001b[0m 0.1057  \u001b[0m | \u001b[0m 7.345   \u001b[0m | \u001b[0m 169.3   \u001b[0m |\n",
      "| \u001b[0m 12      \u001b[0m | \u001b[0m-6.115e+0\u001b[0m | \u001b[0m 0.6169  \u001b[0m | \u001b[0m 0.02238 \u001b[0m | \u001b[0m 9.123   \u001b[0m | \u001b[0m 64.54   \u001b[0m |\n",
      "| \u001b[0m 13      \u001b[0m | \u001b[0m-4.893e+0\u001b[0m | \u001b[0m 0.1107  \u001b[0m | \u001b[0m 0.7702  \u001b[0m | \u001b[0m 3.195   \u001b[0m | \u001b[0m 235.9   \u001b[0m |\n",
      "| \u001b[0m 14      \u001b[0m | \u001b[0m-4.878e+0\u001b[0m | \u001b[0m 0.177   \u001b[0m | \u001b[0m 0.1382  \u001b[0m | \u001b[0m 6.642   \u001b[0m | \u001b[0m 32.55   \u001b[0m |\n",
      "| \u001b[95m 15      \u001b[0m | \u001b[95m-4.766e+0\u001b[0m | \u001b[95m 0.2236  \u001b[0m | \u001b[95m 0.4088  \u001b[0m | \u001b[95m 4.572   \u001b[0m | \u001b[95m 187.2   \u001b[0m |\n",
      "| \u001b[0m 16      \u001b[0m | \u001b[0m-5.026e+0\u001b[0m | \u001b[0m 0.5254  \u001b[0m | \u001b[0m 0.7051  \u001b[0m | \u001b[0m 4.472   \u001b[0m | \u001b[0m 130.2   \u001b[0m |\n",
      "| \u001b[0m 17      \u001b[0m | \u001b[0m-4.857e+0\u001b[0m | \u001b[0m 0.8895  \u001b[0m | \u001b[0m 0.6886  \u001b[0m | \u001b[0m 3.064   \u001b[0m | \u001b[0m 166.9   \u001b[0m |\n",
      "| \u001b[0m 18      \u001b[0m | \u001b[0m-5.133e+0\u001b[0m | \u001b[0m 0.3127  \u001b[0m | \u001b[0m 0.8154  \u001b[0m | \u001b[0m 7.394   \u001b[0m | \u001b[0m 204.4   \u001b[0m |\n",
      "| \u001b[0m 19      \u001b[0m | \u001b[0m-4.903e+0\u001b[0m | \u001b[0m 0.4177  \u001b[0m | \u001b[0m 0.5413  \u001b[0m | \u001b[0m 6.841   \u001b[0m | \u001b[0m 58.18   \u001b[0m |\n",
      "| \u001b[0m 20      \u001b[0m | \u001b[0m-5.03e+05\u001b[0m | \u001b[0m 0.05645 \u001b[0m | \u001b[0m 0.4152  \u001b[0m | \u001b[0m 9.319   \u001b[0m | \u001b[0m 54.81   \u001b[0m |\n",
      "| \u001b[0m 21      \u001b[0m | \u001b[0m-4.894e+0\u001b[0m | \u001b[0m 0.446   \u001b[0m | \u001b[0m 0.1086  \u001b[0m | \u001b[0m 5.134   \u001b[0m | \u001b[0m 278.1   \u001b[0m |\n",
      "| \u001b[95m 22      \u001b[0m | \u001b[95m-4.758e+0\u001b[0m | \u001b[95m 0.8884  \u001b[0m | \u001b[95m 0.4906  \u001b[0m | \u001b[95m 4.252   \u001b[0m | \u001b[95m 283.0   \u001b[0m |\n",
      "| \u001b[0m 23      \u001b[0m | \u001b[0m-4.968e+0\u001b[0m | \u001b[0m 0.9211  \u001b[0m | \u001b[0m 0.1625  \u001b[0m | \u001b[0m 7.113   \u001b[0m | \u001b[0m 291.2   \u001b[0m |\n",
      "| \u001b[0m 24      \u001b[0m | \u001b[0m-4.776e+0\u001b[0m | \u001b[0m 0.8943  \u001b[0m | \u001b[0m 0.2886  \u001b[0m | \u001b[0m 3.832   \u001b[0m | \u001b[0m 134.9   \u001b[0m |\n",
      "| \u001b[0m 25      \u001b[0m | \u001b[0m-4.796e+0\u001b[0m | \u001b[0m 0.8004  \u001b[0m | \u001b[0m 0.2456  \u001b[0m | \u001b[0m 3.404   \u001b[0m | \u001b[0m 249.6   \u001b[0m |\n",
      "| \u001b[0m 26      \u001b[0m | \u001b[0m-4.97e+05\u001b[0m | \u001b[0m 0.1055  \u001b[0m | \u001b[0m 0.1983  \u001b[0m | \u001b[0m 9.288   \u001b[0m | \u001b[0m 195.6   \u001b[0m |\n",
      "| \u001b[0m 27      \u001b[0m | \u001b[0m-5.126e+0\u001b[0m | \u001b[0m 0.02076 \u001b[0m | \u001b[0m 0.7252  \u001b[0m | \u001b[0m 7.152   \u001b[0m | \u001b[0m 31.3    \u001b[0m |\n",
      "| \u001b[0m 28      \u001b[0m | \u001b[0m-5.308e+0\u001b[0m | \u001b[0m 0.4398  \u001b[0m | \u001b[0m 0.9215  \u001b[0m | \u001b[0m 5.63    \u001b[0m | \u001b[0m 212.5   \u001b[0m |\n",
      "| \u001b[0m 29      \u001b[0m | \u001b[0m-4.905e+0\u001b[0m | \u001b[0m 0.5119  \u001b[0m | \u001b[0m 0.4577  \u001b[0m | \u001b[0m 8.341   \u001b[0m | \u001b[0m 143.1   \u001b[0m |\n",
      "| \u001b[0m 30      \u001b[0m | \u001b[0m-5.055e+0\u001b[0m | \u001b[0m 0.6962  \u001b[0m | \u001b[0m 0.9839  \u001b[0m | \u001b[0m 3.321   \u001b[0m | \u001b[0m 207.7   \u001b[0m |\n",
      "| \u001b[0m 31      \u001b[0m | \u001b[0m-4.783e+0\u001b[0m | \u001b[0m 0.2233  \u001b[0m | \u001b[0m 0.273   \u001b[0m | \u001b[0m 7.184   \u001b[0m | \u001b[0m 167.7   \u001b[0m |\n",
      "| \u001b[0m 32      \u001b[0m | \u001b[0m-5.265e+0\u001b[0m | \u001b[0m 0.1782  \u001b[0m | \u001b[0m 0.8452  \u001b[0m | \u001b[0m 6.008   \u001b[0m | \u001b[0m 235.1   \u001b[0m |\n",
      "| \u001b[0m 33      \u001b[0m | \u001b[0m-4.825e+0\u001b[0m | \u001b[0m 0.1596  \u001b[0m | \u001b[0m 0.3442  \u001b[0m | \u001b[0m 6.5     \u001b[0m | \u001b[0m 186.2   \u001b[0m |\n",
      "| \u001b[0m 34      \u001b[0m | \u001b[0m-4.964e+0\u001b[0m | \u001b[0m 0.7891  \u001b[0m | \u001b[0m 0.09446 \u001b[0m | \u001b[0m 5.876   \u001b[0m | \u001b[0m 63.25   \u001b[0m |\n",
      "| \u001b[0m 35      \u001b[0m | \u001b[0m-4.823e+0\u001b[0m | \u001b[0m 0.3777  \u001b[0m | \u001b[0m 0.2426  \u001b[0m | \u001b[0m 6.157   \u001b[0m | \u001b[0m 178.1   \u001b[0m |\n",
      "| \u001b[0m 36      \u001b[0m | \u001b[0m-4.959e+0\u001b[0m | \u001b[0m 0.5142  \u001b[0m | \u001b[0m 0.5725  \u001b[0m | \u001b[0m 8.956   \u001b[0m | \u001b[0m 228.4   \u001b[0m |\n",
      "| \u001b[0m 37      \u001b[0m | \u001b[0m-5.129e+0\u001b[0m | \u001b[0m 0.3969  \u001b[0m | \u001b[0m 0.8575  \u001b[0m | \u001b[0m 7.01    \u001b[0m | \u001b[0m 35.9    \u001b[0m |\n",
      "| \u001b[0m 38      \u001b[0m | \u001b[0m-4.775e+0\u001b[0m | \u001b[0m 0.5357  \u001b[0m | \u001b[0m 0.2845  \u001b[0m | \u001b[0m 5.954   \u001b[0m | \u001b[0m 161.4   \u001b[0m |\n",
      "| \u001b[0m 39      \u001b[0m | \u001b[0m-5.21e+05\u001b[0m | \u001b[0m 0.825   \u001b[0m | \u001b[0m 0.7321  \u001b[0m | \u001b[0m 8.935   \u001b[0m | \u001b[0m 248.8   \u001b[0m |\n",
      "| \u001b[0m 40      \u001b[0m | \u001b[0m-4.918e+0\u001b[0m | \u001b[0m 0.6767  \u001b[0m | \u001b[0m 0.1331  \u001b[0m | \u001b[0m 4.938   \u001b[0m | \u001b[0m 189.5   \u001b[0m |\n",
      "| \u001b[0m 41      \u001b[0m | \u001b[0m-5.116e+0\u001b[0m | \u001b[0m 0.5352  \u001b[0m | \u001b[0m 0.6976  \u001b[0m | \u001b[0m 8.485   \u001b[0m | \u001b[0m 299.2   \u001b[0m |\n",
      "| \u001b[0m 42      \u001b[0m | \u001b[0m-7.488e+0\u001b[0m | \u001b[0m 0.846   \u001b[0m | \u001b[0m 0.01623 \u001b[0m | \u001b[0m 4.307   \u001b[0m | \u001b[0m 181.7   \u001b[0m |\n",
      "| \u001b[0m 43      \u001b[0m | \u001b[0m-4.863e+0\u001b[0m | \u001b[0m 0.5051  \u001b[0m | \u001b[0m 0.1631  \u001b[0m | \u001b[0m 6.934   \u001b[0m | \u001b[0m 250.5   \u001b[0m |\n",
      "| \u001b[0m 44      \u001b[0m | \u001b[0m-4.86e+05\u001b[0m | \u001b[0m 0.8808  \u001b[0m | \u001b[0m 0.5301  \u001b[0m | \u001b[0m 7.483   \u001b[0m | \u001b[0m 262.2   \u001b[0m |\n",
      "| \u001b[0m 45      \u001b[0m | \u001b[0m-4.9e+05 \u001b[0m | \u001b[0m 0.736   \u001b[0m | \u001b[0m 0.2863  \u001b[0m | \u001b[0m 8.801   \u001b[0m | \u001b[0m 14.98   \u001b[0m |\n",
      "| \u001b[0m 46      \u001b[0m | \u001b[0m-4.922e+0\u001b[0m | \u001b[0m 0.04355 \u001b[0m | \u001b[0m 0.682   \u001b[0m | \u001b[0m 6.44    \u001b[0m | \u001b[0m 281.0   \u001b[0m |\n",
      "| \u001b[0m 47      \u001b[0m | \u001b[0m-5.383e+0\u001b[0m | \u001b[0m 0.1294  \u001b[0m | \u001b[0m 0.994   \u001b[0m | \u001b[0m 5.64    \u001b[0m | \u001b[0m 297.9   \u001b[0m |\n",
      "| \u001b[0m 48      \u001b[0m | \u001b[0m-4.808e+0\u001b[0m | \u001b[0m 0.1592  \u001b[0m | \u001b[0m 0.2246  \u001b[0m | \u001b[0m 3.054   \u001b[0m | \u001b[0m 88.56   \u001b[0m |\n",
      "| \u001b[0m 49      \u001b[0m | \u001b[0m-4.822e+0\u001b[0m | \u001b[0m 0.9398  \u001b[0m | \u001b[0m 0.4607  \u001b[0m | \u001b[0m 7.882   \u001b[0m | \u001b[0m 256.2   \u001b[0m |\n",
      "| \u001b[0m 50      \u001b[0m | \u001b[0m-4.799e+0\u001b[0m | \u001b[0m 0.007993\u001b[0m | \u001b[0m 0.4463  \u001b[0m | \u001b[0m 3.797   \u001b[0m | \u001b[0m 114.3   \u001b[0m |\n",
      "| \u001b[0m 51      \u001b[0m | \u001b[0m-4.766e+0\u001b[0m | \u001b[0m 0.0     \u001b[0m | \u001b[0m 0.6421  \u001b[0m | \u001b[0m 3.0     \u001b[0m | \u001b[0m 116.8   \u001b[0m |\n",
      "| \u001b[0m 52      \u001b[0m | \u001b[0m-5.015e+0\u001b[0m | \u001b[0m 0.1255  \u001b[0m | \u001b[0m 0.05843 \u001b[0m | \u001b[0m 9.053   \u001b[0m | \u001b[0m 176.9   \u001b[0m |\n",
      "| \u001b[0m 53      \u001b[0m | \u001b[0m-4.799e+0\u001b[0m | \u001b[0m 0.5604  \u001b[0m | \u001b[0m 0.2444  \u001b[0m | \u001b[0m 3.046   \u001b[0m | \u001b[0m 60.27   \u001b[0m |\n",
      "| \u001b[0m 54      \u001b[0m | \u001b[0m-5.388e+0\u001b[0m | \u001b[0m 0.0739  \u001b[0m | \u001b[0m 0.9183  \u001b[0m | \u001b[0m 9.466   \u001b[0m | \u001b[0m 188.5   \u001b[0m |\n",
      "| \u001b[0m 55      \u001b[0m | \u001b[0m-4.952e+0\u001b[0m | \u001b[0m 0.316   \u001b[0m | \u001b[0m 0.438   \u001b[0m | \u001b[0m 9.955   \u001b[0m | \u001b[0m 260.2   \u001b[0m |\n",
      "| \u001b[0m 56      \u001b[0m | \u001b[0m-5.552e+0\u001b[0m | \u001b[0m 0.6995  \u001b[0m | \u001b[0m 0.9589  \u001b[0m | \u001b[0m 8.776   \u001b[0m | \u001b[0m 136.8   \u001b[0m |\n",
      "| \u001b[0m 57      \u001b[0m | \u001b[0m-6.045e+0\u001b[0m | \u001b[0m 0.06315 \u001b[0m | \u001b[0m 0.02644 \u001b[0m | \u001b[0m 3.099   \u001b[0m | \u001b[0m 241.8   \u001b[0m |\n",
      "| \u001b[0m 58      \u001b[0m | \u001b[0m-5.569e+0\u001b[0m | \u001b[0m 1.0     \u001b[0m | \u001b[0m 1.0     \u001b[0m | \u001b[0m 10.0    \u001b[0m | \u001b[0m 163.6   \u001b[0m |\n",
      "| \u001b[0m 59      \u001b[0m | \u001b[0m-5.491e+0\u001b[0m | \u001b[0m 0.8659  \u001b[0m | \u001b[0m 0.04042 \u001b[0m | \u001b[0m 3.088   \u001b[0m | \u001b[0m 158.3   \u001b[0m |\n",
      "| \u001b[0m 60      \u001b[0m | \u001b[0m-4.804e+0\u001b[0m | \u001b[0m 0.2641  \u001b[0m | \u001b[0m 0.5996  \u001b[0m | \u001b[0m 3.582   \u001b[0m | \u001b[0m 287.2   \u001b[0m |\n",
      "| \u001b[0m 61      \u001b[0m | \u001b[0m-5.373e+0\u001b[0m | \u001b[0m 0.4295  \u001b[0m | \u001b[0m 0.9681  \u001b[0m | \u001b[0m 5.936   \u001b[0m | \u001b[0m 176.2   \u001b[0m |\n",
      "| \u001b[0m 62      \u001b[0m | \u001b[0m-4.886e+0\u001b[0m | \u001b[0m 0.1874  \u001b[0m | \u001b[0m 0.3634  \u001b[0m | \u001b[0m 9.996   \u001b[0m | \u001b[0m 253.3   \u001b[0m |\n",
      "| \u001b[0m 63      \u001b[0m | \u001b[0m-1.018e+0\u001b[0m | \u001b[0m 0.0118  \u001b[0m | \u001b[0m 0.008709\u001b[0m | \u001b[0m 5.031   \u001b[0m | \u001b[0m 164.0   \u001b[0m |\n",
      "| \u001b[0m 64      \u001b[0m | \u001b[0m-4.831e+0\u001b[0m | \u001b[0m 0.4978  \u001b[0m | \u001b[0m 0.4218  \u001b[0m | \u001b[0m 6.476   \u001b[0m | \u001b[0m 159.8   \u001b[0m |\n",
      "| \u001b[0m 65      \u001b[0m | \u001b[0m-4.879e+0\u001b[0m | \u001b[0m 0.6399  \u001b[0m | \u001b[0m 0.6894  \u001b[0m | \u001b[0m 3.7     \u001b[0m | \u001b[0m 169.0   \u001b[0m |\n",
      "| \u001b[0m 66      \u001b[0m | \u001b[0m-4.776e+0\u001b[0m | \u001b[0m 0.5801  \u001b[0m | \u001b[0m 0.2282  \u001b[0m | \u001b[0m 4.78    \u001b[0m | \u001b[0m 285.1   \u001b[0m |\n",
      "| \u001b[0m 67      \u001b[0m | \u001b[0m-4.905e+0\u001b[0m | \u001b[0m 0.5304  \u001b[0m | \u001b[0m 0.1117  \u001b[0m | \u001b[0m 5.374   \u001b[0m | \u001b[0m 60.43   \u001b[0m |\n",
      "| \u001b[0m 68      \u001b[0m | \u001b[0m-4.911e+0\u001b[0m | \u001b[0m 0.5581  \u001b[0m | \u001b[0m 0.1265  \u001b[0m | \u001b[0m 7.29    \u001b[0m | \u001b[0m 253.0   \u001b[0m |\n",
      "| \u001b[0m 69      \u001b[0m | \u001b[0m-1.665e+0\u001b[0m | \u001b[0m 0.0     \u001b[0m | \u001b[0m 0.0     \u001b[0m | \u001b[0m 5.176   \u001b[0m | \u001b[0m 116.4   \u001b[0m |\n",
      "| \u001b[95m 70      \u001b[0m | \u001b[95m-4.743e+0\u001b[0m | \u001b[95m 0.7273  \u001b[0m | \u001b[95m 0.3727  \u001b[0m | \u001b[95m 4.499   \u001b[0m | \u001b[95m 284.0   \u001b[0m |\n",
      "| \u001b[0m 71      \u001b[0m | \u001b[0m-4.882e+0\u001b[0m | \u001b[0m 0.3363  \u001b[0m | \u001b[0m 0.9132  \u001b[0m | \u001b[0m 3.023   \u001b[0m | \u001b[0m 113.8   \u001b[0m |\n",
      "| \u001b[0m 72      \u001b[0m | \u001b[0m-4.773e+0\u001b[0m | \u001b[0m 0.4069  \u001b[0m | \u001b[0m 0.2468  \u001b[0m | \u001b[0m 5.83    \u001b[0m | \u001b[0m 187.7   \u001b[0m |\n",
      "| \u001b[0m 73      \u001b[0m | \u001b[0m-4.934e+0\u001b[0m | \u001b[0m 0.4441  \u001b[0m | \u001b[0m 0.106   \u001b[0m | \u001b[0m 5.827   \u001b[0m | \u001b[0m 283.0   \u001b[0m |\n",
      "| \u001b[0m 74      \u001b[0m | \u001b[0m-5.031e+0\u001b[0m | \u001b[0m 0.1825  \u001b[0m | \u001b[0m 0.929   \u001b[0m | \u001b[0m 3.3     \u001b[0m | \u001b[0m 285.3   \u001b[0m |\n",
      "| \u001b[0m 75      \u001b[0m | \u001b[0m-4.858e+0\u001b[0m | \u001b[0m 0.5621  \u001b[0m | \u001b[0m 0.3582  \u001b[0m | \u001b[0m 8.544   \u001b[0m | \u001b[0m 254.5   \u001b[0m |\n",
      "| \u001b[0m 76      \u001b[0m | \u001b[0m-4.918e+0\u001b[0m | \u001b[0m 0.4489  \u001b[0m | \u001b[0m 0.488   \u001b[0m | \u001b[0m 7.918   \u001b[0m | \u001b[0m 260.2   \u001b[0m |\n",
      "| \u001b[0m 77      \u001b[0m | \u001b[0m-4.783e+0\u001b[0m | \u001b[0m 0.2126  \u001b[0m | \u001b[0m 0.5514  \u001b[0m | \u001b[0m 3.918   \u001b[0m | \u001b[0m 113.1   \u001b[0m |\n",
      "| \u001b[0m 78      \u001b[0m | \u001b[0m-5.007e+0\u001b[0m | \u001b[0m 0.9295  \u001b[0m | \u001b[0m 0.6379  \u001b[0m | \u001b[0m 5.569   \u001b[0m | \u001b[0m 168.8   \u001b[0m |\n",
      "| \u001b[0m 79      \u001b[0m | \u001b[0m-5.62e+05\u001b[0m | \u001b[0m 0.2378  \u001b[0m | \u001b[0m 0.985   \u001b[0m | \u001b[0m 8.822   \u001b[0m | \u001b[0m 258.1   \u001b[0m |\n",
      "| \u001b[0m 80      \u001b[0m | \u001b[0m-4.843e+0\u001b[0m | \u001b[0m 0.7494  \u001b[0m | \u001b[0m 0.6556  \u001b[0m | \u001b[0m 3.942   \u001b[0m | \u001b[0m 62.02   \u001b[0m |\n",
      "| \u001b[0m 81      \u001b[0m | \u001b[0m-1.061e+0\u001b[0m | \u001b[0m 0.8422  \u001b[0m | \u001b[0m 0.007801\u001b[0m | \u001b[0m 7.456   \u001b[0m | \u001b[0m 160.9   \u001b[0m |\n",
      "| \u001b[0m 82      \u001b[0m | \u001b[0m-4.902e+0\u001b[0m | \u001b[0m 0.5603  \u001b[0m | \u001b[0m 0.5262  \u001b[0m | \u001b[0m 5.435   \u001b[0m | \u001b[0m 160.0   \u001b[0m |\n",
      "| \u001b[0m 83      \u001b[0m | \u001b[0m-5.087e+0\u001b[0m | \u001b[0m 0.08376 \u001b[0m | \u001b[0m 0.719   \u001b[0m | \u001b[0m 6.194   \u001b[0m | \u001b[0m 159.2   \u001b[0m |\n",
      "| \u001b[95m 84      \u001b[0m | \u001b[95m-4.735e+0\u001b[0m | \u001b[95m 0.1338  \u001b[0m | \u001b[95m 0.416   \u001b[0m | \u001b[95m 5.402   \u001b[0m | \u001b[95m 160.8   \u001b[0m |\n",
      "| \u001b[0m 85      \u001b[0m | \u001b[0m-5.224e+0\u001b[0m | \u001b[0m 1.0     \u001b[0m | \u001b[0m 0.933   \u001b[0m | \u001b[0m 4.152   \u001b[0m | \u001b[0m 60.6    \u001b[0m |\n",
      "| \u001b[0m 86      \u001b[0m | \u001b[0m-5.291e+0\u001b[0m | \u001b[0m 0.931   \u001b[0m | \u001b[0m 0.9842  \u001b[0m | \u001b[0m 5.493   \u001b[0m | \u001b[0m 186.7   \u001b[0m |\n",
      "| \u001b[0m 87      \u001b[0m | \u001b[0m-5.492e+0\u001b[0m | \u001b[0m 0.9184  \u001b[0m | \u001b[0m 0.9254  \u001b[0m | \u001b[0m 5.29    \u001b[0m | \u001b[0m 161.3   \u001b[0m |\n",
      "| \u001b[0m 88      \u001b[0m | \u001b[0m-1.665e+0\u001b[0m | \u001b[0m 0.0     \u001b[0m | \u001b[0m 0.0     \u001b[0m | \u001b[0m 3.0     \u001b[0m | \u001b[0m 61.55   \u001b[0m |\n",
      "| \u001b[0m 89      \u001b[0m | \u001b[0m-4.87e+05\u001b[0m | \u001b[0m 0.1736  \u001b[0m | \u001b[0m 0.6093  \u001b[0m | \u001b[0m 3.642   \u001b[0m | \u001b[0m 113.7   \u001b[0m |\n",
      "| \u001b[0m 90      \u001b[0m | \u001b[0m-4.945e+0\u001b[0m | \u001b[0m 0.4841  \u001b[0m | \u001b[0m 0.5557  \u001b[0m | \u001b[0m 4.099   \u001b[0m | \u001b[0m 284.7   \u001b[0m |\n",
      "| \u001b[95m 91      \u001b[0m | \u001b[95m-4.712e+0\u001b[0m | \u001b[95m 0.3097  \u001b[0m | \u001b[95m 0.506   \u001b[0m | \u001b[95m 3.468   \u001b[0m | \u001b[95m 59.56   \u001b[0m |\n",
      "| \u001b[0m 92      \u001b[0m | \u001b[0m-4.879e+0\u001b[0m | \u001b[0m 0.8029  \u001b[0m | \u001b[0m 0.6719  \u001b[0m | \u001b[0m 3.301   \u001b[0m | \u001b[0m 60.14   \u001b[0m |\n",
      "| \u001b[0m 93      \u001b[0m | \u001b[0m-4.898e+0\u001b[0m | \u001b[0m 0.7997  \u001b[0m | \u001b[0m 0.5655  \u001b[0m | \u001b[0m 4.334   \u001b[0m | \u001b[0m 62.64   \u001b[0m |\n",
      "| \u001b[0m 94      \u001b[0m | \u001b[0m-5.124e+0\u001b[0m | \u001b[0m 0.8746  \u001b[0m | \u001b[0m 0.05806 \u001b[0m | \u001b[0m 5.048   \u001b[0m | \u001b[0m 188.4   \u001b[0m |\n",
      "| \u001b[0m 95      \u001b[0m | \u001b[0m-6.733e+0\u001b[0m | \u001b[0m 0.8643  \u001b[0m | \u001b[0m 0.02034 \u001b[0m | \u001b[0m 3.352   \u001b[0m | \u001b[0m 59.09   \u001b[0m |\n",
      "| \u001b[0m 96      \u001b[0m | \u001b[0m-5.215e+0\u001b[0m | \u001b[0m 1.0     \u001b[0m | \u001b[0m 1.0     \u001b[0m | \u001b[0m 4.381   \u001b[0m | \u001b[0m 61.97   \u001b[0m |\n",
      "| \u001b[0m 97      \u001b[0m | \u001b[0m-4.953e+0\u001b[0m | \u001b[0m 0.2274  \u001b[0m | \u001b[0m 0.6073  \u001b[0m | \u001b[0m 4.896   \u001b[0m | \u001b[0m 283.3   \u001b[0m |\n",
      "| \u001b[0m 98      \u001b[0m | \u001b[0m-4.911e+0\u001b[0m | \u001b[0m 0.3208  \u001b[0m | \u001b[0m 0.3173  \u001b[0m | \u001b[0m 8.551   \u001b[0m | \u001b[0m 253.5   \u001b[0m |\n",
      "| \u001b[0m 99      \u001b[0m | \u001b[0m-1.665e+0\u001b[0m | \u001b[0m 0.6955  \u001b[0m | \u001b[0m 0.0     \u001b[0m | \u001b[0m 5.452   \u001b[0m | \u001b[0m 284.2   \u001b[0m |\n",
      "| \u001b[0m 100     \u001b[0m | \u001b[0m-4.714e+0\u001b[0m | \u001b[0m 0.3138  \u001b[0m | \u001b[0m 0.4187  \u001b[0m | \u001b[0m 4.054   \u001b[0m | \u001b[0m 283.6   \u001b[0m |\n",
      "=========================================================================\n"
     ]
    }
   ],
   "source": [
    "xgb.set_config(verbosity = 0)\n",
    "dtrain = xgb.DMatrix(OneHotEncoder(handle_unknown = \"ignore\").fit_transform(X_train), label = y_train)\n",
    "\n",
    "def get_xgb_rmse(n_estimators, max_depth, gamma, learning_rate):\n",
    "    params = {'max_depth': int(max_depth), \n",
    "              'gamma': gamma, \n",
    "              'n_estimators': int(n_estimators), \n",
    "              'learning_rate': learning_rate, \n",
    "              'eval_metric': 'rmse'}\n",
    "    cv_result = xgb.cv(params, dtrain, num_boost_round = 70, nfold = 5)\n",
    "    return -1.0 * cv_result['test-rmse-mean'].iloc[-1]\n",
    "\n",
    "xgb_bo = BayesianOptimization(get_xgb_rmse, {'max_depth': (3, 10),\n",
    "                                             'gamma': (0, 1),\n",
    "                                             'learning_rate': (0, 1),\n",
    "                                             'n_estimators': (10, 300)\n",
    "                                            }\n",
    "                             )\n",
    "\n",
    "xgb_bo.maximize(n_iter = 50, init_points = 50, acq = 'ei', random_state = seed)"
   ]
  },
  {
   "cell_type": "code",
   "execution_count": 16,
   "id": "973a3576-b406-4d34-96b9-445bd50ded8c",
   "metadata": {},
   "outputs": [],
   "source": [
    "xgb_bo_params = xgb_bo.max[\"params\"]\n",
    "xgb_bo_params[\"max_depth\"]= int(xgb_bo_params[\"max_depth\"])\n",
    "xgb_bo_params[\"n_estimators\"]= int(xgb_bo_params[\"n_estimators\"])\n",
    "for param in [\"n_estimators\", \"max_depth\", \"gamma\", \"learning_rate\"]:\n",
    "    xgb_bo_params[\"xgb__\" + param] = xgb_bo_params.pop(param)"
   ]
  },
  {
   "cell_type": "code",
   "execution_count": 17,
   "id": "ab82f7e2-0414-4281-9c5a-ef66f00aca87",
   "metadata": {},
   "outputs": [
    {
     "data": {
      "text/plain": [
       "{'xgb__n_estimators': 59,\n",
       " 'xgb__max_depth': 3,\n",
       " 'xgb__gamma': 0.30965886088820815,\n",
       " 'xgb__learning_rate': 0.5060008606348984}"
      ]
     },
     "execution_count": 17,
     "metadata": {},
     "output_type": "execute_result"
    }
   ],
   "source": [
    "xgb_bo_params"
   ]
  },
  {
   "cell_type": "markdown",
   "id": "4b9ba47d-2169-46d1-b28c-242f5ac6d9cc",
   "metadata": {},
   "source": [
    "## Comparing the best sets of parameters"
   ]
  },
  {
   "cell_type": "code",
   "execution_count": 18,
   "id": "c1d699c0-57fe-43b7-97e6-a6f806b51996",
   "metadata": {},
   "outputs": [
    {
     "name": "stdout",
     "output_type": "stream",
     "text": [
      "Median RMSE for XGB with grid search: 445160.3388\n"
     ]
    }
   ],
   "source": [
    "xgb_pipe = xgb_pipe.set_params(**xgb_gs_params)\n",
    "xgb_gs_cv_rmse = cross_val_score(xgb_pipe, X_train, y_train, cv = 5, scoring = \"neg_root_mean_squared_error\")\n",
    "print(\"Median RMSE for XGB with grid search: {}\".format(round(np.median(xgb_gs_cv_rmse) * -1, 4)))"
   ]
  },
  {
   "cell_type": "code",
   "execution_count": 19,
   "id": "297fee6d-860c-4750-9f7d-f87dfa347af2",
   "metadata": {},
   "outputs": [
    {
     "name": "stdout",
     "output_type": "stream",
     "text": [
      "Median RMSE for XGB with Bayesian optimization: 458227.1717\n"
     ]
    }
   ],
   "source": [
    "xgb_pipe = xgb_pipe.set_params(**xgb_bo_params)\n",
    "xgb_bo_cv_rmse = cross_val_score(xgb_pipe, X_train, y_train, cv = 5, scoring = \"neg_root_mean_squared_error\")\n",
    "print(\"Median RMSE for XGB with Bayesian optimization: {}\".format(round(np.median(xgb_bo_cv_rmse) * -1, 4)))"
   ]
  },
  {
   "cell_type": "code",
   "execution_count": 20,
   "id": "5f3c2938-2ebf-4d60-bad6-730cfbfe0d0a",
   "metadata": {},
   "outputs": [],
   "source": [
    "if np.median(xgb_gs_cv_rmse) > np.median(xgb_bo_cv_rmse):\n",
    "    xgb_params = xgb_gs_params\n",
    "else:\n",
    "    xgb_params = xgb_bo_params\n",
    "xgb_model = xgb_pipe.set_params(**xgb_params)\n",
    "res = xgb_model.fit(X_train, y_train)"
   ]
  },
  {
   "cell_type": "code",
   "execution_count": 21,
   "id": "9a39bb80-9c6c-4d69-a93c-beea454a1d0e",
   "metadata": {},
   "outputs": [
    {
     "name": "stdout",
     "output_type": "stream",
     "text": [
      "XGBoost testing results \n",
      "RMSE: 416816.2556 \n",
      "MAE: 283611.8762 \n",
      "MAPE: 0.194\n"
     ]
    }
   ],
   "source": [
    "xgb_pred = xgb_model.predict(X_test)\n",
    "print(\"XGBoost testing results\", \n",
    "      \"\\nRMSE: {}\".format(round(mean_squared_error(y_test, xgb_pred, squared = False), 4)), \n",
    "      \"\\nMAE: {}\".format(round(mean_absolute_error(y_test, xgb_pred), 4)), \n",
    "      \"\\nMAPE: {}\".format(round(mean_absolute_percentage_error(y_test, xgb_pred), 4)))"
   ]
  },
  {
   "cell_type": "markdown",
   "id": "a50aa6e0-9211-415f-b549-29c2b92edf44",
   "metadata": {},
   "source": [
    "# Neural Network"
   ]
  },
  {
   "cell_type": "code",
   "execution_count": 22,
   "id": "b503f4bd-dad8-4f42-b9f3-33063d5e5d31",
   "metadata": {},
   "outputs": [],
   "source": [
    "def nn_architecture(hidden_neurons = 64, kernel_initializer = \"he_normal\", dropout = 0.2, optimizer = \"SGD\"):\n",
    "    nn = Sequential()\n",
    "    nn.add(Dense(hidden_neurons, activation = 'sigmoid', kernel_initializer = kernel_initializer))\n",
    "    nn.add(Dropout(dropout))\n",
    "    nn.add(Dense(1, activation = 'relu'))\n",
    "    nn.compile(optimizer = optimizer, loss = 'MeanSquaredError', metrics = ['MeanSquaredError'])\n",
    "    return nn"
   ]
  },
  {
   "cell_type": "code",
   "execution_count": 23,
   "id": "7f57b2bd-e8eb-4b8d-b615-19f67d397696",
   "metadata": {
    "tags": []
   },
   "outputs": [
    {
     "name": "stderr",
     "output_type": "stream",
     "text": [
      "C:\\Users\\mspya\\AppData\\Local\\Temp/ipykernel_26508/2311668703.py:1: DeprecationWarning: KerasRegressor is deprecated, use Sci-Keras (https://github.com/adriangb/scikeras) instead. See https://www.adriangb.com/scikeras/stable/migration.html for help migrating.\n",
      "  nn = KerasRegressor(build_fn = nn_architecture, verbose = 0)\n"
     ]
    }
   ],
   "source": [
    "nn = KerasRegressor(build_fn = nn_architecture, verbose = 0)\n",
    "nn._estimator_type = \"regressor\"\n",
    "\n",
    "nn_pipe = Pipeline(\n",
    "    steps = [(\"preprocessing\", preprocessor), (\"nn\", nn)]\n",
    ")\n",
    "\n",
    "early_stopping = tf.keras.callbacks.EarlyStopping(monitor = 'loss', patience = 10)\n",
    "nn_param_grid = {\n",
    "    \"nn__hidden_neurons\": [32, 64, 96, 128, 192, 256],\n",
    "    \"nn__kernel_initializer\": [\"uniform\"],\n",
    "    \"nn__dropout\": [0, 0.1, 0.2, 0.25, 0.3, 0.35, 0.4, 0.45],\n",
    "    \"nn__optimizer\": [\"SGD\"]\n",
    "}\n",
    "\n",
    "nn_fixed_params = {\n",
    "    \"nn__callbacks\": [early_stopping],\n",
    "    \"nn__epochs\": 200,\n",
    "    \"nn__batch_size\": 128\n",
    "}\n",
    "\n",
    "nn_pipe = nn_pipe.set_params(**nn_fixed_params)\n",
    "nn_model = GridSearchCV(nn_pipe, nn_param_grid, cv = 5, n_jobs = -1)\n",
    "res = nn_model.fit(X_train, y_train)"
   ]
  },
  {
   "cell_type": "code",
   "execution_count": 24,
   "id": "bfc1287d-5c61-442c-9407-3cfaf91355aa",
   "metadata": {},
   "outputs": [
    {
     "data": {
      "text/plain": [
       "{'nn__dropout': 0.35,\n",
       " 'nn__hidden_neurons': 256,\n",
       " 'nn__kernel_initializer': 'uniform',\n",
       " 'nn__optimizer': 'SGD'}"
      ]
     },
     "execution_count": 24,
     "metadata": {},
     "output_type": "execute_result"
    }
   ],
   "source": [
    "nn_model.best_params_"
   ]
  },
  {
   "cell_type": "code",
   "execution_count": 25,
   "id": "a14fa160-e8f9-45ca-976e-c6d97b653b6b",
   "metadata": {},
   "outputs": [
    {
     "name": "stdout",
     "output_type": "stream",
     "text": [
      "Neural Network testing results \n",
      "RMSE: 452360.9153 \n",
      "MAE: 327383.7717 \n",
      "MAPE: 0.2324\n"
     ]
    }
   ],
   "source": [
    "nn_pred = nn_model.predict(X_test)\n",
    "print(\"Neural Network testing results\", \n",
    "      \"\\nRMSE: {}\".format(round(mean_squared_error(y_test, nn_pred, squared = False), 4)), \n",
    "      \"\\nMAE: {}\".format(round(mean_absolute_error(y_test, nn_pred), 4)), \n",
    "      \"\\nMAPE: {}\".format(round(mean_absolute_percentage_error(y_test, nn_pred), 4)))"
   ]
  },
  {
   "cell_type": "markdown",
   "id": "97638bd6-c77d-42e1-ac2f-219a4041b137",
   "metadata": {},
   "source": [
    "# Stacking the models using Ridge regression"
   ]
  },
  {
   "cell_type": "code",
   "execution_count": 26,
   "id": "a63f730a-d4b2-44da-bac6-3aae7af696e2",
   "metadata": {},
   "outputs": [
    {
     "name": "stdout",
     "output_type": "stream",
     "text": [
      "WARNING:tensorflow:5 out of the last 13 calls to <function Model.make_predict_function.<locals>.predict_function at 0x0000026E982D9670> triggered tf.function retracing. Tracing is expensive and the excessive number of tracings could be due to (1) creating @tf.function repeatedly in a loop, (2) passing tensors with different shapes, (3) passing Python objects instead of tensors. For (1), please define your @tf.function outside of the loop. For (2), @tf.function has experimental_relax_shapes=True option that relaxes argument shapes that can avoid unnecessary retracing. For (3), please refer to https://www.tensorflow.org/guide/function#controlling_retracing and https://www.tensorflow.org/api_docs/python/tf/function for  more details.\n",
      "WARNING:tensorflow:5 out of the last 13 calls to <function Model.make_predict_function.<locals>.predict_function at 0x0000026E981E69D0> triggered tf.function retracing. Tracing is expensive and the excessive number of tracings could be due to (1) creating @tf.function repeatedly in a loop, (2) passing tensors with different shapes, (3) passing Python objects instead of tensors. For (1), please define your @tf.function outside of the loop. For (2), @tf.function has experimental_relax_shapes=True option that relaxes argument shapes that can avoid unnecessary retracing. For (3), please refer to https://www.tensorflow.org/guide/function#controlling_retracing and https://www.tensorflow.org/api_docs/python/tf/function for  more details.\n"
     ]
    }
   ],
   "source": [
    "rf_pipe.set_params(**random_forest_model.best_params_)\n",
    "nn_pipe.set_params(**nn_model.best_params_)\n",
    "\n",
    "estimators = [\n",
    "    ('en', elastic_net_model),\n",
    "    ('rf', rf_pipe),\n",
    "    ('xgb', xgb_model),\n",
    "    ('nn', nn_pipe)\n",
    "]\n",
    "\n",
    "stack_model = StackingRegressor(\n",
    "    estimators = estimators,\n",
    "    final_estimator = RidgeCV()\n",
    ")\n",
    "\n",
    "res = stack_model.fit(X_train, y_train)"
   ]
  },
  {
   "cell_type": "code",
   "execution_count": 27,
   "id": "0e26bcf2-aaa7-4cd6-859b-ce4bab201fb1",
   "metadata": {},
   "outputs": [
    {
     "name": "stdout",
     "output_type": "stream",
     "text": [
      "Stacked model testing results \n",
      "RMSE: 381012.7937 \n",
      "MAE: 264502.4703 \n",
      "MAPE: 0.1765\n"
     ]
    }
   ],
   "source": [
    "stack_pred = stack_model.predict(X_test)\n",
    "print(\"Stacked model testing results\", \n",
    "      \"\\nRMSE: {}\".format(round(mean_squared_error(y_test, stack_pred, squared = False), 4)), \n",
    "      \"\\nMAE: {}\".format(round(mean_absolute_error(y_test, stack_pred), 4)), \n",
    "      \"\\nMAPE: {}\".format(round(mean_absolute_percentage_error(y_test, stack_pred), 4)))"
   ]
  },
  {
   "cell_type": "markdown",
   "id": "d93e1098-af77-4fbb-8876-23cbf31e75dc",
   "metadata": {},
   "source": [
    "# Results summary"
   ]
  },
  {
   "cell_type": "code",
   "execution_count": 28,
   "id": "afb1edac-81cc-47d9-8f1e-34c2854b8c1c",
   "metadata": {},
   "outputs": [],
   "source": [
    "def populate_scores_list(score, preds, y_true, score_params = {}):\n",
    "    output = []\n",
    "    for pred in preds:\n",
    "        output.append(score(y_true, pred, **score_params))\n",
    "    return output"
   ]
  },
  {
   "cell_type": "code",
   "execution_count": 29,
   "id": "fafd8a98-df21-4d92-b2a4-08904bd8b40c",
   "metadata": {},
   "outputs": [
    {
     "name": "stdout",
     "output_type": "stream",
     "text": [
      "Models' performance on holdout testing sample\n"
     ]
    },
    {
     "data": {
      "text/html": [
       "<style type=\"text/css\">\n",
       "#T_24923_row4_col0, #T_24923_row4_col1, #T_24923_row4_col2 {\n",
       "  background-color: yellow;\n",
       "}\n",
       "</style>\n",
       "<table id=\"T_24923_\">\n",
       "  <thead>\n",
       "    <tr>\n",
       "      <th class=\"blank level0\" >&nbsp;</th>\n",
       "      <th class=\"col_heading level0 col0\" >RMSE</th>\n",
       "      <th class=\"col_heading level0 col1\" >MAE</th>\n",
       "      <th class=\"col_heading level0 col2\" >MAPE</th>\n",
       "    </tr>\n",
       "  </thead>\n",
       "  <tbody>\n",
       "    <tr>\n",
       "      <th id=\"T_24923_level0_row0\" class=\"row_heading level0 row0\" >Elastic Net</th>\n",
       "      <td id=\"T_24923_row0_col0\" class=\"data row0 col0\" >392897.423</td>\n",
       "      <td id=\"T_24923_row0_col1\" class=\"data row0 col1\" >282319.037</td>\n",
       "      <td id=\"T_24923_row0_col2\" class=\"data row0 col2\" >0.198</td>\n",
       "    </tr>\n",
       "    <tr>\n",
       "      <th id=\"T_24923_level0_row1\" class=\"row_heading level0 row1\" >Random Forest</th>\n",
       "      <td id=\"T_24923_row1_col0\" class=\"data row1 col0\" >442219.140</td>\n",
       "      <td id=\"T_24923_row1_col1\" class=\"data row1 col1\" >301930.278</td>\n",
       "      <td id=\"T_24923_row1_col2\" class=\"data row1 col2\" >0.205</td>\n",
       "    </tr>\n",
       "    <tr>\n",
       "      <th id=\"T_24923_level0_row2\" class=\"row_heading level0 row2\" >XGBoost</th>\n",
       "      <td id=\"T_24923_row2_col0\" class=\"data row2 col0\" >416816.256</td>\n",
       "      <td id=\"T_24923_row2_col1\" class=\"data row2 col1\" >283611.876</td>\n",
       "      <td id=\"T_24923_row2_col2\" class=\"data row2 col2\" >0.194</td>\n",
       "    </tr>\n",
       "    <tr>\n",
       "      <th id=\"T_24923_level0_row3\" class=\"row_heading level0 row3\" >Neural Network</th>\n",
       "      <td id=\"T_24923_row3_col0\" class=\"data row3 col0\" >452360.915</td>\n",
       "      <td id=\"T_24923_row3_col1\" class=\"data row3 col1\" >327383.772</td>\n",
       "      <td id=\"T_24923_row3_col2\" class=\"data row3 col2\" >0.232</td>\n",
       "    </tr>\n",
       "    <tr>\n",
       "      <th id=\"T_24923_level0_row4\" class=\"row_heading level0 row4\" >Stacked Regressor</th>\n",
       "      <td id=\"T_24923_row4_col0\" class=\"data row4 col0\" >381012.794</td>\n",
       "      <td id=\"T_24923_row4_col1\" class=\"data row4 col1\" >264502.470</td>\n",
       "      <td id=\"T_24923_row4_col2\" class=\"data row4 col2\" >0.176</td>\n",
       "    </tr>\n",
       "  </tbody>\n",
       "</table>\n"
      ],
      "text/plain": [
       "<pandas.io.formats.style.Styler at 0x26e9849bc10>"
      ]
     },
     "metadata": {},
     "output_type": "display_data"
    }
   ],
   "source": [
    "all_predictions = [elastic_net_pred, rf_pred, xgb_pred, nn_pred, stack_pred]\n",
    "models = [\"Elastic Net\", \"Random Forest\", \"XGBoost\", \"Neural Network\", \"Stacked Regressor\"]\n",
    "RMSEs = populate_scores_list(mean_squared_error, all_predictions, y_test, {\"squared\": False})\n",
    "MAEs = populate_scores_list(mean_absolute_error, all_predictions, y_test)\n",
    "MAPEs = populate_scores_list(mean_absolute_percentage_error, all_predictions, y_test)\n",
    "testing_summary = pd.DataFrame({\"RMSE\": RMSEs, \"MAE\": MAEs, \"MAPE\": MAPEs}, index = models)\n",
    "pd.set_option(\"display.precision\", 3)\n",
    "print(\"Models' performance on holdout testing sample\")\n",
    "display(testing_summary.round(3).style.highlight_min(color = \"yellow\"))"
   ]
  },
  {
   "cell_type": "markdown",
   "id": "321e2c2e-8cf9-4d2f-aae3-0cb0a9ac01d6",
   "metadata": {},
   "source": [
    "**Stalking the models together provides results superior to any individual model**"
   ]
  },
  {
   "cell_type": "markdown",
   "id": "0ceeada1-16b6-4c79-bda8-ac82694c5dfd",
   "metadata": {},
   "source": [
    "# Saving the final model"
   ]
  },
  {
   "cell_type": "code",
   "execution_count": 30,
   "id": "87d1ce65-dd2d-4ec1-b55a-f1accef77998",
   "metadata": {},
   "outputs": [
    {
     "name": "stdout",
     "output_type": "stream",
     "text": [
      "INFO:tensorflow:Assets written to: ram://384bc523-0eee-4a73-b84a-cd3126e0a8e3/assets\n"
     ]
    }
   ],
   "source": [
    "import pickle\n",
    "with open(\"sf_sold_houses_model.pkl\", \"wb\") as f:\n",
    "    pickle.dump(stack_model, f)"
   ]
  }
 ],
 "metadata": {
  "kernelspec": {
   "display_name": "Python 3 (ipykernel)",
   "language": "python",
   "name": "python3"
  },
  "language_info": {
   "codemirror_mode": {
    "name": "ipython",
    "version": 3
   },
   "file_extension": ".py",
   "mimetype": "text/x-python",
   "name": "python",
   "nbconvert_exporter": "python",
   "pygments_lexer": "ipython3",
   "version": "3.9.7"
  }
 },
 "nbformat": 4,
 "nbformat_minor": 5
}
